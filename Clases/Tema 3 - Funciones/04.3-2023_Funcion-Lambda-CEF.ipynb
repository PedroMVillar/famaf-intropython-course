{
 "cells": [
  {
   "attachments": {
    "7facaff9-ded4-4f41-9f21-8f6d18d193c7.png": {
     "image/png": "[encoded data removed]"
    }
   },
   "cell_type": "markdown",
   "metadata": {},
   "source": [
    "![Header_CursoBasico.png](attachment:7facaff9-ded4-4f41-9f21-8f6d18d193c7.png)"
   ]
  },
  {
   "cell_type": "markdown",
   "metadata": {},
   "source": [
    "# Función Lambda "
   ]
  },
  {
   "cell_type": "markdown",
   "metadata": {},
   "source": [
    "Supongaqmos que definamos una función simple, la cual puede ser escrita en una sola sentencia"
   ]
  },
  {
   "cell_type": "code",
   "execution_count": 1,
   "metadata": {},
   "outputs": [],
   "source": [
    "def f(x, y):\n",
    "    return x + y"
   ]
  },
  {
   "cell_type": "code",
   "execution_count": 2,
   "metadata": {},
   "outputs": [
    {
     "data": {
      "text/plain": [
       "3"
      ]
     },
     "execution_count": 2,
     "metadata": {},
     "output_type": "execute_result"
    }
   ],
   "source": [
    "f(1, 2)"
   ]
  },
  {
   "cell_type": "markdown",
   "metadata": {},
   "source": [
    "- Esto puede ser escrito de manera más simple con la función `lambda`.\n",
    "- La función `lambda` no incluye una declaración explícita` return`.\n",
    "- Sin embargo, siempre devuelve el resultado evaluado de la expresión."
   ]
  },
  {
   "cell_type": "code",
   "execution_count": 3,
   "metadata": {},
   "outputs": [
    {
     "data": {
      "text/plain": [
       "3"
      ]
     },
     "execution_count": 3,
     "metadata": {},
     "output_type": "execute_result"
    }
   ],
   "source": [
    "f = lambda x, y: x + y  # Devuelve la suma de sus dos argumentos.\n",
    "f(1, 2)"
   ]
  },
  {
   "cell_type": "code",
   "execution_count": 4,
   "metadata": {},
   "outputs": [],
   "source": [
    "def a(x):\n",
    "    return x * 5\n",
    "b = lambda n: n * 5"
   ]
  },
  {
   "cell_type": "code",
   "execution_count": 5,
   "metadata": {},
   "outputs": [
    {
     "name": "stdout",
     "output_type": "stream",
     "text": [
      "15\n",
      "15\n"
     ]
    }
   ],
   "source": [
    "print(a(3))\n",
    "print(b(3))"
   ]
  },
  {
   "cell_type": "markdown",
   "metadata": {},
   "source": [
    "- La función `lambda` no está limitada a un identificador. Se llama una función anónima."
   ]
  },
  {
   "cell_type": "markdown",
   "metadata": {},
   "source": [
    "- La siguiente función lambda determina si un número mayor o menor a 60."
   ]
  },
  {
   "cell_type": "code",
   "execution_count": 6,
   "metadata": {},
   "outputs": [
    {
     "data": {
      "text/plain": [
       "'Verdadero'"
      ]
     },
     "execution_count": 6,
     "metadata": {},
     "output_type": "execute_result"
    }
   ],
   "source": [
    "grade = lambda x: 'Verdadero' if x >= 60 else 'Falso'\n",
    "grade(95)"
   ]
  },
  {
   "cell_type": "code",
   "execution_count": 7,
   "metadata": {},
   "outputs": [
    {
     "data": {
      "text/plain": [
       "'Falso'"
      ]
     },
     "execution_count": 7,
     "metadata": {},
     "output_type": "execute_result"
    }
   ],
   "source": [
    "grade(45)"
   ]
  },
  {
   "cell_type": "code",
   "execution_count": 8,
   "metadata": {},
   "outputs": [
    {
     "data": {
      "text/plain": [
       "5"
      ]
     },
     "execution_count": 8,
     "metadata": {},
     "output_type": "execute_result"
    }
   ],
   "source": [
    "grade = lambda x: (x + 90) if x >= 60 else (x - 10)\n",
    "grade(15)"
   ]
  },
  {
   "cell_type": "markdown",
   "metadata": {},
   "source": [
    "- Lo que es equivalente a "
   ]
  },
  {
   "cell_type": "code",
   "execution_count": 9,
   "metadata": {
    "scrolled": true
   },
   "outputs": [],
   "source": [
    "def grade(x):\n",
    "    if x>=60:\n",
    "        result = 'Verdadero'\n",
    "    else:\n",
    "        result = 'Falso'\n",
    "    return result"
   ]
  },
  {
   "cell_type": "markdown",
   "metadata": {},
   "source": [
    "- La siguiente expresión lambda se pasa como argumento de otra función."
   ]
  },
  {
   "cell_type": "code",
   "execution_count": 10,
   "metadata": {},
   "outputs": [
    {
     "data": {
      "text/plain": [
       "['d', 'bb', 'ccc', 'aaaa']"
      ]
     },
     "execution_count": 10,
     "metadata": {},
     "output_type": "execute_result"
    }
   ],
   "source": [
    "a = ['ccc', 'aaaa', 'd', 'bb']\n",
    "a.sort(key = lambda x: len(x))  # len(x): [3, 4, 1, 2]\n",
    "a"
   ]
  },
  {
   "cell_type": "code",
   "execution_count": 11,
   "metadata": {},
   "outputs": [],
   "source": [
    "d = [10, 7, 3, 45]"
   ]
  },
  {
   "cell_type": "code",
   "execution_count": 12,
   "metadata": {},
   "outputs": [],
   "source": [
    "d.sort(reverse=False)"
   ]
  },
  {
   "cell_type": "code",
   "execution_count": 13,
   "metadata": {},
   "outputs": [
    {
     "data": {
      "text/plain": [
       "[3, 7, 10, 45]"
      ]
     },
     "execution_count": 13,
     "metadata": {},
     "output_type": "execute_result"
    }
   ],
   "source": [
    "d"
   ]
  },
  {
   "cell_type": "code",
   "execution_count": 14,
   "metadata": {
    "scrolled": true
   },
   "outputs": [
    {
     "data": {
      "text/plain": [
       "[6, 5, 7, 4, 3, 2, 1]"
      ]
     },
     "execution_count": 14,
     "metadata": {},
     "output_type": "execute_result"
    }
   ],
   "source": [
    "b = [1, 2, 3, 4, 5, 6, 7]\n",
    "b.sort(key = lambda x: abs(6-x))  # abs(6-x): [5, 4, 3, 2]\n",
    "b"
   ]
  },
  {
   "cell_type": "markdown",
   "metadata": {},
   "source": [
    "# Clases, Atributos, Métodos:  Objetos"
   ]
  },
  {
   "cell_type": "markdown",
   "metadata": {},
   "source": [
    "Las clases y los objetos sirven para crear propios tipo de datos (es decir, tipos de datos definidos por el usuario).  \n",
    "\n",
    "Una clase es un tipo de dato definido por el usuario, y al crearle instancias de una clase hace relación a la creación de objetos de ese tipo.  \n",
    "\n",
    "Las clases y los objetos son considerados los principales bloques de desarrollo para Python, el cual es un lenguaje de programación orientado a objetos.\n",
    "\n",
    "__Las Clases con los Atributos y sus Métodos, nos permite crear Objetos__"
   ]
  },
  {
   "cell_type": "markdown",
   "metadata": {},
   "source": [
    "### Definamos una Clase, con sus Atributos y Métodos"
   ]
  },
  {
   "cell_type": "code",
   "execution_count": 15,
   "metadata": {},
   "outputs": [],
   "source": [
    "\"\"\"\n",
    "Aqui creamos la Clase\n",
    "\"\"\"\n",
    "class Particula:\n",
    "    \"\"\"\n",
    "    Estos son los Atributos y les ponemos unos Predeterminados\n",
    "    \"\"\"\n",
    "\n",
    "    masa    =  1\n",
    "    carga   = -1\n",
    "    spin    = 0.5\n",
    "    __energia = 511\n",
    "        \n",
    "    \"\"\"\n",
    "    Estos son los Métodos\n",
    "    \"\"\"\n",
    "    def cambia_energia(self, delta):\n",
    "        self.energia = self.__energia + delta   \n",
    "   \n",
    "    def cambia_spin(self):\n",
    "        self.spin = -self.spin\n",
    "\n",
    "    def print_particula(self):\n",
    "        print('masa    :', self.masa)\n",
    "        print('carga   :', self.carga)\n",
    "        print('spin    :', self.spin)\n",
    "        print('energia :', self.__energia)\n",
    "    \n",
    "    def interaccion(self, otra):\n",
    "        self.energia = -self.__energia + otra.energia"
   ]
  },
  {
   "cell_type": "markdown",
   "metadata": {},
   "source": [
    "### Ahora definamos un Objeto o lo Instanciamos"
   ]
  },
  {
   "cell_type": "code",
   "execution_count": 18,
   "metadata": {},
   "outputs": [],
   "source": [
    "electron = Particula()"
   ]
  },
  {
   "cell_type": "markdown",
   "metadata": {},
   "source": [
    "### veamos sus Atributos predeterminados"
   ]
  },
  {
   "cell_type": "code",
   "execution_count": 19,
   "metadata": {},
   "outputs": [
    {
     "name": "stdout",
     "output_type": "stream",
     "text": [
      "masa    : 1\n",
      "carga   : -1\n",
      "spin    : 0.5\n",
      "energia : 511\n"
     ]
    }
   ],
   "source": [
    "electron.print_particula()"
   ]
  },
  {
   "cell_type": "markdown",
   "metadata": {},
   "source": [
    "### y le pongamos sus Atributos"
   ]
  },
  {
   "cell_type": "code",
   "execution_count": 20,
   "metadata": {},
   "outputs": [],
   "source": [
    "electron.masa = 1\n",
    "electron.carga = -1\n",
    "electron.spin = -1\n",
    "electron.__energia = 500"
   ]
  },
  {
   "cell_type": "markdown",
   "metadata": {},
   "source": [
    "### Ahora usemos algún Método"
   ]
  },
  {
   "cell_type": "code",
   "execution_count": 21,
   "metadata": {},
   "outputs": [
    {
     "name": "stdout",
     "output_type": "stream",
     "text": [
      "masa    : 1\n",
      "carga   : -1\n",
      "spin    : -1\n",
      "energia : 511\n"
     ]
    }
   ],
   "source": [
    "electron.print_particula()"
   ]
  },
  {
   "cell_type": "markdown",
   "metadata": {},
   "source": [
    "### Y ahora los otros Métodos"
   ]
  },
  {
   "cell_type": "code",
   "execution_count": 22,
   "metadata": {},
   "outputs": [],
   "source": [
    "electron.cambia_energia(-50)\n",
    "electron.cambia_spin()"
   ]
  },
  {
   "cell_type": "markdown",
   "metadata": {},
   "source": [
    "### Veamos los resultados"
   ]
  },
  {
   "cell_type": "code",
   "execution_count": 23,
   "metadata": {},
   "outputs": [
    {
     "name": "stdout",
     "output_type": "stream",
     "text": [
      "masa    : 1\n",
      "carga   : -1\n",
      "spin    : 1\n",
      "energia : 511\n"
     ]
    }
   ],
   "source": [
    "electron.print_particula()"
   ]
  },
  {
   "cell_type": "code",
   "execution_count": 24,
   "metadata": {},
   "outputs": [],
   "source": [
    "proton = Particula()"
   ]
  },
  {
   "cell_type": "code",
   "execution_count": 25,
   "metadata": {},
   "outputs": [],
   "source": [
    "proton.masa= 1000 *proton.masa"
   ]
  },
  {
   "cell_type": "code",
   "execution_count": 26,
   "metadata": {},
   "outputs": [],
   "source": [
    "proton.cambia_spin()"
   ]
  },
  {
   "cell_type": "code",
   "execution_count": 27,
   "metadata": {},
   "outputs": [
    {
     "name": "stdout",
     "output_type": "stream",
     "text": [
      "masa    : 1000\n",
      "carga   : -1\n",
      "spin    : -0.5\n",
      "energia : 511\n"
     ]
    }
   ],
   "source": [
    "proton.print_particula()"
   ]
  },
  {
   "cell_type": "code",
   "execution_count": 28,
   "metadata": {},
   "outputs": [],
   "source": [
    "proton.interaccion(electron)"
   ]
  },
  {
   "cell_type": "code",
   "execution_count": 29,
   "metadata": {},
   "outputs": [
    {
     "name": "stdout",
     "output_type": "stream",
     "text": [
      "masa    : 1000\n",
      "carga   : -1\n",
      "spin    : -0.5\n",
      "energia : 511\n"
     ]
    }
   ],
   "source": [
    "proton.print_particula()"
   ]
  },
  {
   "cell_type": "code",
   "execution_count": 30,
   "metadata": {},
   "outputs": [],
   "source": [
    "electron.interaccion(proton)"
   ]
  },
  {
   "cell_type": "code",
   "execution_count": 31,
   "metadata": {},
   "outputs": [
    {
     "name": "stdout",
     "output_type": "stream",
     "text": [
      "masa    : 1\n",
      "carga   : -1\n",
      "spin    : 1\n",
      "energia : 511\n"
     ]
    }
   ],
   "source": [
    "electron.print_particula()"
   ]
  },
  {
   "cell_type": "code",
   "execution_count": 32,
   "metadata": {},
   "outputs": [],
   "source": [
    "def Intera(part1, part2):\n",
    "    part1.energia = part1.energia/2.0\n",
    "    part2.energia = part2.energia/2.0"
   ]
  },
  {
   "cell_type": "code",
   "execution_count": 33,
   "metadata": {},
   "outputs": [],
   "source": [
    "Intera(proton, electron)"
   ]
  },
  {
   "cell_type": "code",
   "execution_count": 34,
   "metadata": {},
   "outputs": [
    {
     "name": "stdout",
     "output_type": "stream",
     "text": [
      "masa    : 1\n",
      "carga   : -1\n",
      "spin    : 1\n",
      "energia : 511\n"
     ]
    }
   ],
   "source": [
    "electron.print_particula()"
   ]
  },
  {
   "cell_type": "code",
   "execution_count": 35,
   "metadata": {},
   "outputs": [
    {
     "name": "stdout",
     "output_type": "stream",
     "text": [
      "masa    : 1000\n",
      "carga   : -1\n",
      "spin    : -0.5\n",
      "energia : 511\n"
     ]
    }
   ],
   "source": [
    "proton.print_particula()"
   ]
  }
 ],
 "metadata": {
  "kernelspec": {
   "display_name": "Python 3 (ipykernel)",
   "language": "python",
   "name": "python3"
  },
  "language_info": {
   "codemirror_mode": {
    "name": "ipython",
    "version": 3
   },
   "file_extension": ".py",
   "mimetype": "text/x-python",
   "name": "python",
   "nbconvert_exporter": "python",
   "pygments_lexer": "ipython3",
   "version": "3.8.10"
  }
 },
 "nbformat": 4,
 "nbformat_minor": 4
}
