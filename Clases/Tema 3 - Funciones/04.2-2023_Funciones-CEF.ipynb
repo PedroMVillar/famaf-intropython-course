{
 "cells": [
  {
   "attachments": {
    "a243712c-579b-45f0-847e-59f87c8fc3be.png": {
     "image/png": "[encoded data removed]"
    }
   },
   "cell_type": "markdown",
   "id": "7599fb7b-364d-4269-aea5-9ad022d66f2c",
   "metadata": {},
   "source": [
    "![Header_CursoBasico.png](attachment:a243712c-579b-45f0-847e-59f87c8fc3be.png)"
   ]
  },
  {
   "cell_type": "markdown",
   "id": "f5d67c72-3b82-41ca-b3b2-efbe2b13a1c4",
   "metadata": {},
   "source": [
    "# Funciones"
   ]
  },
  {
   "cell_type": "markdown",
   "id": "5cba8aca-6643-4f2e-8287-dd71417b7643",
   "metadata": {},
   "source": [
    "## 4.2.1 Ejemplo: conversión de temperatura"
   ]
  },
  {
   "cell_type": "markdown",
   "id": "692a12f6-a2c6-49c0-b840-32882d8f1803",
   "metadata": {},
   "source": [
    "- El siguiente programa convierte la temperatura de grados Celsius a grados Fahrenheit.\n",
    "- En resumen, este programa crea una pequeña interfaz para que el usuario ingrese una temperatura en grados Celsius, la convierte a grados Fahrenheit utilizando una fórmula específica y luego muestra la temperatura convertida en grados Fahrenheit al usuario. Cada función tiene una responsabilidad específica en el proceso de conversión, lo que hace que el código sea más modular y fácil de entender.\n",
    "> ___Observen la estructura de este programa___"
   ]
  },
  {
   "cell_type": "code",
   "execution_count": 1,
   "id": "9a983c1a-3760-4a83-a994-5af75dd3886d",
   "metadata": {
    "tags": []
   },
   "outputs": [],
   "source": [
    "def input_temp():\n",
    "    temp = float(input('Ingrese la temperatura en °C: '))\n",
    "    return temp\n",
    "\n",
    "def convert_temp(c):\n",
    "    f = 9/5 * c + 32\n",
    "    return f\n",
    "    \n",
    "def output_temp(f):\n",
    "    print('La temperature es', f, '°F.')\n",
    "    \n",
    "def main():\n",
    "    c = input_temp()\n",
    "    f = convert_temp(c)\n",
    "    output_temp(f)"
   ]
  },
  {
   "cell_type": "code",
   "execution_count": 2,
   "id": "43c50733-7cb9-479f-a036-da43406fa559",
   "metadata": {
    "tags": []
   },
   "outputs": [
    {
     "name": "stdin",
     "output_type": "stream",
     "text": [
      " 7\n"
     ]
    }
   ],
   "source": [
    "x=input()"
   ]
  },
  {
   "cell_type": "code",
   "execution_count": 43,
   "id": "4703e70e-b9c7-4ab9-836f-50734f4d43dd",
   "metadata": {
    "tags": []
   },
   "outputs": [],
   "source": [
    "flotante = float(x)"
   ]
  },
  {
   "cell_type": "code",
   "execution_count": 44,
   "id": "dfe17fbd-c567-41fc-916a-7d2756fb5a16",
   "metadata": {
    "tags": []
   },
   "outputs": [],
   "source": [
    "y=int(flotante)"
   ]
  },
  {
   "cell_type": "code",
   "execution_count": 45,
   "id": "1fa0702d-fca1-4b45-b8c4-8f9c46f55cca",
   "metadata": {
    "tags": []
   },
   "outputs": [
    {
     "name": "stdout",
     "output_type": "stream",
     "text": [
      "90\n"
     ]
    }
   ],
   "source": [
    "print(y)"
   ]
  },
  {
   "cell_type": "code",
   "execution_count": 46,
   "id": "9a0cda71-95eb-4eff-9e46-d871fac4c3f4",
   "metadata": {
    "tags": []
   },
   "outputs": [],
   "source": [
    "#help(int)"
   ]
  },
  {
   "cell_type": "markdown",
   "id": "b88dbbb5-0c98-45a4-9cc8-eaa58c204c03",
   "metadata": {},
   "source": [
    "#### Vamos a analizar el programa paso a paso:\n",
    "\n",
    " 1.   input_temp(): Esta función se encarga de solicitar al usuario que ingrese una temperatura en grados Celsius. Luego, convierte la entrada en un número de punto flotante y lo devuelve.\n",
    "\n",
    "  2.  convert_temp(c): Esta función toma un valor de temperatura en grados Celsius (c) como argumento y realiza la conversión a grados Fahrenheit (f). La fórmula de conversión es: F=95×C+32F=59​×C+32. Luego, devuelve el valor de temperatura en grados Fahrenheit.\n",
    "\n",
    "  3.  output_temp(f): Esta función recibe un valor de temperatura en grados Fahrenheit (f) y simplemente imprime un mensaje que muestra la temperatura en grados Fahrenheit.\n",
    "\n",
    "  4.  main(): La función principal (main()) es el punto de entrada del programa. En esta función:\n",
    "\n",
    "+        Se llama a input_temp() para obtener la temperatura en grados Celsius del usuario y se almacena en la variable C.\n",
    "+        Luego, se llama a convert_temp(C) para convertir la temperatura en grados Celsius (C) a grados Fahrenheit (F), y el resultado se almacena en la variable F.\n",
    "+        Finalmente, se llama a output_temp(F) para mostrar el resultado convertido en grados Fahrenheit al usuario.\n",
    "\n"
   ]
  },
  {
   "cell_type": "code",
   "execution_count": 4,
   "id": "4e27d93e-6e98-4dd4-84a2-cc9631b28c26",
   "metadata": {
    "tags": []
   },
   "outputs": [
    {
     "name": "stdin",
     "output_type": "stream",
     "text": [
      "Ingrese la temperatura en °C:  1100\n"
     ]
    },
    {
     "name": "stdout",
     "output_type": "stream",
     "text": [
      "La temperature es 2012.0 °F.\n"
     ]
    }
   ],
   "source": [
    "main()"
   ]
  },
  {
   "cell_type": "code",
   "execution_count": 13,
   "id": "137f0f65-1c20-4f11-b987-9f7b4a224bf9",
   "metadata": {
    "tags": []
   },
   "outputs": [
    {
     "data": {
      "text/plain": [
       "212.0"
      ]
     },
     "execution_count": 13,
     "metadata": {},
     "output_type": "execute_result"
    }
   ],
   "source": [
    "convert_temp(100)"
   ]
  },
  {
   "cell_type": "code",
   "execution_count": 15,
   "id": "1ee1bc74-9daa-4f13-bafb-80ed39629a29",
   "metadata": {
    "tags": []
   },
   "outputs": [
    {
     "name": "stdin",
     "output_type": "stream",
     "text": [
      "Ingrese la temperatura en °C:  100\n"
     ]
    },
    {
     "name": "stdout",
     "output_type": "stream",
     "text": [
      "La temperature es 212.0 °F.\n"
     ]
    }
   ],
   "source": [
    "%run c2f.py  # Ejecute el código como un programa independiente"
   ]
  },
  {
   "cell_type": "code",
   "execution_count": 16,
   "id": "3d67f1ea-c14e-4190-9035-ea1497ffd3d7",
   "metadata": {
    "tags": []
   },
   "outputs": [],
   "source": [
    "import c2f  # Importa el módulo pero no lo ejecute y se lo importa con el nombre del archivo"
   ]
  },
  {
   "cell_type": "code",
   "execution_count": 17,
   "id": "9834528d-93a8-4389-8010-7ce2bfbab917",
   "metadata": {
    "tags": []
   },
   "outputs": [
    {
     "name": "stdin",
     "output_type": "stream",
     "text": [
      "Ingrese la temperatura en °C:  200\n"
     ]
    },
    {
     "name": "stdout",
     "output_type": "stream",
     "text": [
      "La temperature es 392.0 °F.\n"
     ]
    }
   ],
   "source": [
    "c2f.main()"
   ]
  },
  {
   "cell_type": "code",
   "execution_count": 20,
   "id": "f335c71b-6654-4de6-8bfb-86bc26e097e7",
   "metadata": {},
   "outputs": [],
   "source": [
    "import c2f as fc # Tamnbién podemos importamos con un alias"
   ]
  },
  {
   "cell_type": "markdown",
   "id": "94eed95b-1804-4739-9810-88b4774062e1",
   "metadata": {},
   "source": [
    "#### fc.main()"
   ]
  },
  {
   "cell_type": "markdown",
   "id": "64231e07-da37-4a54-b948-922843dae4c8",
   "metadata": {},
   "source": [
    "#### fc.main()"
   ]
  },
  {
   "cell_type": "code",
   "execution_count": 22,
   "id": "51fa865c-3a3a-4480-a86d-0944d8c1884a",
   "metadata": {},
   "outputs": [
    {
     "data": {
      "text/plain": [
       "14.0"
      ]
     },
     "execution_count": 22,
     "metadata": {},
     "output_type": "execute_result"
    }
   ],
   "source": [
    "fc.convert_temp(-10)"
   ]
  },
  {
   "cell_type": "markdown",
   "id": "7248fdbe-13bf-4676-bdfd-fa22a717e673",
   "metadata": {},
   "source": [
    "## 4.2.2 Cómo ejecutar el archivo en Jupyter Notebook directamente, con un comando mágico."
   ]
  },
  {
   "cell_type": "code",
   "execution_count": 5,
   "id": "1fe5ca4d-0719-41b0-a8d1-25b4f1b0530f",
   "metadata": {
    "tags": []
   },
   "outputs": [
    {
     "data": {
      "text/plain": [
       "\u001b[0;32mdef\u001b[0m \u001b[0minput_temp\u001b[0m\u001b[0;34m(\u001b[0m\u001b[0;34m)\u001b[0m\u001b[0;34m:\u001b[0m\u001b[0;34m\u001b[0m\n",
       "\u001b[0;34m\u001b[0m    \u001b[0mtemp\u001b[0m \u001b[0;34m=\u001b[0m \u001b[0mfloat\u001b[0m\u001b[0;34m(\u001b[0m\u001b[0minput\u001b[0m\u001b[0;34m(\u001b[0m\u001b[0;34m'Ingrese la temperatura en °C: '\u001b[0m\u001b[0;34m)\u001b[0m\u001b[0;34m)\u001b[0m\u001b[0;34m\u001b[0m\n",
       "\u001b[0;34m\u001b[0m    \u001b[0;32mreturn\u001b[0m \u001b[0mtemp\u001b[0m\u001b[0;34m\u001b[0m\n",
       "\u001b[0;34m\u001b[0m\u001b[0;34m\u001b[0m\n",
       "\u001b[0;34m\u001b[0m\u001b[0;32mdef\u001b[0m \u001b[0mconvert_temp\u001b[0m\u001b[0;34m(\u001b[0m\u001b[0mc\u001b[0m \u001b[0;34m=\u001b[0m \u001b[0;34m-\u001b[0m\u001b[0;36m500\u001b[0m\u001b[0;34m)\u001b[0m\u001b[0;34m:\u001b[0m\u001b[0;34m\u001b[0m\n",
       "\u001b[0;34m\u001b[0m    \u001b[0mf\u001b[0m \u001b[0;34m=\u001b[0m \u001b[0;36m9\u001b[0m\u001b[0;34m/\u001b[0m\u001b[0;36m5\u001b[0m \u001b[0;34m*\u001b[0m \u001b[0mc\u001b[0m \u001b[0;34m+\u001b[0m \u001b[0;36m32\u001b[0m\u001b[0;34m\u001b[0m\n",
       "\u001b[0;34m\u001b[0m    \u001b[0;32mreturn\u001b[0m \u001b[0mf\u001b[0m\u001b[0;34m\u001b[0m\n",
       "\u001b[0;34m\u001b[0m    \u001b[0;34m\u001b[0m\n",
       "\u001b[0;34m\u001b[0m\u001b[0;32mdef\u001b[0m \u001b[0moutput_temp\u001b[0m\u001b[0;34m(\u001b[0m\u001b[0mf\u001b[0m\u001b[0;34m)\u001b[0m\u001b[0;34m:\u001b[0m\u001b[0;34m\u001b[0m\n",
       "\u001b[0;34m\u001b[0m    \u001b[0mprint\u001b[0m\u001b[0;34m(\u001b[0m\u001b[0;34m'La temperature es'\u001b[0m\u001b[0;34m,\u001b[0m \u001b[0mf\u001b[0m\u001b[0;34m,\u001b[0m \u001b[0;34m'°F.'\u001b[0m\u001b[0;34m)\u001b[0m\u001b[0;34m\u001b[0m\n",
       "\u001b[0;34m\u001b[0m    \u001b[0;34m\u001b[0m\n",
       "\u001b[0;34m\u001b[0m\u001b[0;32mdef\u001b[0m \u001b[0mmain\u001b[0m\u001b[0;34m(\u001b[0m\u001b[0;34m)\u001b[0m\u001b[0;34m:\u001b[0m\u001b[0;34m\u001b[0m\n",
       "\u001b[0;34m\u001b[0m    \u001b[0mc\u001b[0m \u001b[0;34m=\u001b[0m \u001b[0minput_temp\u001b[0m\u001b[0;34m(\u001b[0m\u001b[0;34m)\u001b[0m\u001b[0;34m\u001b[0m\n",
       "\u001b[0;34m\u001b[0m    \u001b[0mf\u001b[0m \u001b[0;34m=\u001b[0m \u001b[0mconvert_temp\u001b[0m\u001b[0;34m(\u001b[0m\u001b[0mc\u001b[0m\u001b[0;34m)\u001b[0m\u001b[0;34m\u001b[0m\n",
       "\u001b[0;34m\u001b[0m    \u001b[0moutput_temp\u001b[0m\u001b[0;34m(\u001b[0m\u001b[0mf\u001b[0m\u001b[0;34m)\u001b[0m\u001b[0;34m\u001b[0m\n",
       "\u001b[0;34m\u001b[0m\u001b[0;34m\u001b[0m\n",
       "\u001b[0;34m\u001b[0m\u001b[0;32mif\u001b[0m \u001b[0m__name__\u001b[0m \u001b[0;34m==\u001b[0m \u001b[0;34m'__main__'\u001b[0m\u001b[0;34m:\u001b[0m\u001b[0;34m\u001b[0m\n",
       "\u001b[0;34m\u001b[0m    \u001b[0mmain\u001b[0m\u001b[0;34m(\u001b[0m\u001b[0;34m)\u001b[0m\u001b[0;34m\u001b[0m\u001b[0;34m\u001b[0m\u001b[0m\n"
      ]
     },
     "metadata": {},
     "output_type": "display_data"
    }
   ],
   "source": [
    "%more c2f.py"
   ]
  },
  {
   "cell_type": "code",
   "execution_count": 6,
   "id": "b9ab9a97-1908-448f-b457-17b475bf64e1",
   "metadata": {
    "tags": []
   },
   "outputs": [
    {
     "name": "stdin",
     "output_type": "stream",
     "text": [
      "Ingrese la temperatura en °C:  60\n"
     ]
    },
    {
     "name": "stdout",
     "output_type": "stream",
     "text": [
      "La temperature es 140.0 °F.\n"
     ]
    }
   ],
   "source": [
    "# Advertncia No veremos nada \n",
    "%run c2f.py  # Ejecute el código como un programa independiente"
   ]
  },
  {
   "cell_type": "code",
   "execution_count": 85,
   "id": "3de725cd-baa8-4c61-89be-9437fb99ecbc",
   "metadata": {},
   "outputs": [],
   "source": [
    "import c2f  # Importa el módulo pero no lo ejecute y se lo importa con el nombre del archivo"
   ]
  },
  {
   "cell_type": "markdown",
   "id": "98563c65-6c7f-442a-bbaa-882df9067a81",
   "metadata": {},
   "source": [
    "#### fc.main()"
   ]
  },
  {
   "cell_type": "markdown",
   "id": "b6a3d94f-6623-4582-85d9-e86328c59b75",
   "metadata": {},
   "source": [
    "## 4.2.3  Hagamos otro ejemplo"
   ]
  },
  {
   "cell_type": "markdown",
   "id": "40d1d7a0-3115-4312-82a9-e618bece5b63",
   "metadata": {},
   "source": [
    "Definamos una función que convierta grados fahrenheit a kelvin. \n",
    "Para ellos, recordemos que:\n",
    "\n",
    "$$T(K) = (T(°F) - 32) \\cdot 5/9 + 273.15$$"
   ]
  },
  {
   "cell_type": "code",
   "execution_count": 5,
   "id": "ea4cf037-aa36-4301-b61d-159d6f2396c4",
   "metadata": {
    "cell_tags": [],
    "tags": []
   },
   "outputs": [],
   "source": [
    "def fahr_to_kelvin(temp):\n",
    "    \"\"\"\n",
    "    Aqui ponemos el comentario que sea\n",
    "    necesario.\n",
    "    \"\"\"\n",
    "    return ((temp - 32) * (5/9)) + 273.15"
   ]
  },
  {
   "cell_type": "code",
   "execution_count": 6,
   "id": "406806a7-b3ba-4c4c-be37-9128997d9941",
   "metadata": {
    "cell_tags": [],
    "tags": []
   },
   "outputs": [
    {
     "name": "stdout",
     "output_type": "stream",
     "text": [
      "Punto de congelación del agua: 273.15\n",
      "Punto de ebullición del agua: 373.15\n"
     ]
    }
   ],
   "source": [
    "# Punto de congelación del agua 32 F\n",
    "print('Punto de congelación del agua:', fahr_to_kelvin(32))\n",
    "# Punto de ebullición del agua 212 F\n",
    "print('Punto de ebullición del agua:', fahr_to_kelvin(212))"
   ]
  },
  {
   "cell_type": "markdown",
   "id": "27d71378-8b97-4c51-9531-1e2ed1560eab",
   "metadata": {},
   "source": [
    "### 4.2.4 Funciones que llaman a otras funciones"
   ]
  },
  {
   "cell_type": "markdown",
   "id": "d0bf0c27-c175-4403-83c1-cbe533eed3f4",
   "metadata": {},
   "source": [
    "Podemos definir funciones que llamen a otras con tal de que estén creadas en el momento de llamarlas. Definamos una función para pasar de Kelvin a Celsius:"
   ]
  },
  {
   "cell_type": "code",
   "execution_count": 24,
   "id": "b60848ce-f626-40ac-bd11-3fff53e518e1",
   "metadata": {},
   "outputs": [],
   "source": [
    "def kelvin_to_celsius(temp):\n",
    "    \"\"\"\n",
    "    Esta función transforma Kelvin a grados Celsius\n",
    "    \"\"\"\n",
    "    return temp - 273.15"
   ]
  },
  {
   "cell_type": "code",
   "execution_count": null,
   "id": "0190d235-4150-45c7-a379-c196afd5bdf1",
   "metadata": {
    "cell_tags": []
   },
   "outputs": [],
   "source": [
    "print('Cero absoluto en grados Celsius:', kelvin_to_celsius(0.0))"
   ]
  },
  {
   "cell_type": "markdown",
   "id": "dacb4144-4c16-4005-bdf3-40702e508b83",
   "metadata": {},
   "source": [
    "Si ahora queremos convertir de Farenheit a Celsius, podemos usar la función que ya teníamos definida:"
   ]
  },
  {
   "cell_type": "code",
   "execution_count": 25,
   "id": "9c42493c-4041-4c87-9eb8-bed234f6a26d",
   "metadata": {
    "cell_tags": []
   },
   "outputs": [
    {
     "name": "stdout",
     "output_type": "stream",
     "text": [
      "Punto de congelamiento del agua en grados Celsius: 0.0\n"
     ]
    }
   ],
   "source": [
    "def fahr_to_celsius(temp):\n",
    "    temp_k = fahr_to_kelvin(temp)\n",
    "    result = kelvin_to_celsius(temp_k)\n",
    "    return result\n",
    "\n",
    "print('Punto de congelamiento del agua en grados Celsius:', fahr_to_celsius(32.0))"
   ]
  },
  {
   "cell_type": "code",
   "execution_count": 29,
   "id": "1aef3610-fd66-46fa-a2f6-e1c9039e4f39",
   "metadata": {},
   "outputs": [
    {
     "data": {
      "text/plain": [
       "0.0"
      ]
     },
     "execution_count": 29,
     "metadata": {},
     "output_type": "execute_result"
    }
   ],
   "source": [
    "kelvin_to_celsius(fahr_to_kelvin(32))"
   ]
  },
  {
   "cell_type": "markdown",
   "id": "8e0450e8-f9f9-4d53-a5da-47cdf70cda9a",
   "metadata": {},
   "source": [
    "Empezar a ver como, utilizando funciones, construimos programas grandes y complejos a partir de pequeñas piezas autónomas, reutilizables y fácilmente testeables."
   ]
  },
  {
   "cell_type": "code",
   "execution_count": null,
   "id": "4909a854-a421-493d-aba5-136f2216b1ef",
   "metadata": {},
   "outputs": [],
   "source": []
  }
 ],
 "metadata": {
  "kernelspec": {
   "display_name": "Python 3 (ipykernel)",
   "language": "python",
   "name": "python3"
  },
  "language_info": {
   "codemirror_mode": {
    "name": "ipython",
    "version": 3
   },
   "file_extension": ".py",
   "mimetype": "text/x-python",
   "name": "python",
   "nbconvert_exporter": "python",
   "pygments_lexer": "ipython3",
   "version": "3.8.10"
  }
 },
 "nbformat": 4,
 "nbformat_minor": 5
}
