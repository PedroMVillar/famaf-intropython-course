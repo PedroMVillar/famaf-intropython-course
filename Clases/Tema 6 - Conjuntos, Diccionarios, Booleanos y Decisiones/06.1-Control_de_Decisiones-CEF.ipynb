{
 "cells": [
  {
   "attachments": {
    "Header.png": {
     "image/png": "[encoded data removed]"
    }
   },
   "cell_type": "markdown",
   "metadata": {},
   "source": [
    "![Header.png](attachment:Header.png)"
   ]
  },
  {
   "cell_type": "markdown",
   "metadata": {},
   "source": [
    "# Control de decisiones"
   ]
  },
  {
   "cell_type": "markdown",
   "metadata": {},
   "source": [
    "###  La declaración de `if`"
   ]
  },
  {
   "cell_type": "markdown",
   "metadata": {
    "collapsed": true
   },
   "source": [
    "**Syntaxis**"
   ]
  },
  {
   "cell_type": "markdown",
   "metadata": {},
   "source": [
    "- El bloque de instrucciones está sangrado. Se ejecutará solo si `condition` es `True`.\n",
    "```python\n",
    "    if condition:\n",
    "        bloque de enunciado```"
   ]
  },
  {
   "cell_type": "markdown",
   "metadata": {},
   "source": [
    "**Ejemplo**"
   ]
  },
  {
   "cell_type": "markdown",
   "metadata": {},
   "source": [
    "- El siguiente programa convierte la velocidad de un automóvil de kilómetros por hora (kph) a millas por hora (mph).\n",
    "- Se emitirán advertencias si el automóvil es demasiado rápido o demasiado lento"
   ]
  },
  {
   "cell_type": "code",
   "execution_count": 1,
   "metadata": {
    "scrolled": true
   },
   "outputs": [],
   "source": [
    "def speed1():\n",
    "    kph = float(input('¿Cuál es la velocidad en km / h?'))\n",
    "    mph = 0.621371 * kph\n",
    "    print('La velocidad es de', mph, 'mph.')\n",
    "\n",
    "    if mph > 65:\n",
    "        print('Está por encima del límite de velocidad (65 mph). ¡Maneja más despacio!')\n",
    "    if mph <= 65:\n",
    "        print('Estás dentro del límite de velocidad. ¡Buen trabajo!')"
   ]
  },
  {
   "cell_type": "code",
   "execution_count": 2,
   "metadata": {},
   "outputs": [
    {
     "name": "stdout",
     "output_type": "stream",
     "text": [
      "¿Cuál es la velocidad en km / h?54\n",
      "La velocidad es de 33.554034 mph.\n",
      "Estás dentro del límite de velocidad. ¡Buen trabajo!\n"
     ]
    }
   ],
   "source": [
    "speed1()"
   ]
  },
  {
   "cell_type": "code",
   "execution_count": 3,
   "metadata": {},
   "outputs": [
    {
     "name": "stdout",
     "output_type": "stream",
     "text": [
      "¿Cuál es la velocidad en km / h?34\n",
      "La velocidad es de 21.126614 mph.\n",
      "Estás dentro del límite de velocidad. ¡Buen trabajo!\n"
     ]
    }
   ],
   "source": [
    "speed1()"
   ]
  },
  {
   "cell_type": "markdown",
   "metadata": {},
   "source": [
    "### La declaración `if-else`"
   ]
  },
  {
   "cell_type": "markdown",
   "metadata": {},
   "source": [
    "**Syntaxis**"
   ]
  },
  {
   "cell_type": "markdown",
   "metadata": {},
   "source": [
    "- El `bloque de enunciado_1` se ejecutará si la condición es `True`;\n",
    "- De lo contrario, `bloque de enunciado_2` se ejecutará.\n",
    "```python\n",
    "if condition:\n",
    "    statement_block_1\n",
    "else:\n",
    "    statement_block_2```"
   ]
  },
  {
   "cell_type": "markdown",
   "metadata": {},
   "source": [
    "**Ejemplo**"
   ]
  },
  {
   "cell_type": "code",
   "execution_count": 4,
   "metadata": {},
   "outputs": [],
   "source": [
    "def speed2():\n",
    "    kph = float(input('¿Cuál es la velocidad en km / h?  '))\n",
    "    mph = 0.621371 * kph\n",
    "    print('La velocidad es ', mph, 'mph.')\n",
    "\n",
    "    if mph > 65:\n",
    "        print('Está por encima del límite de velocidad (65 mph). ¡Maneja más despacio!')\n",
    "    else:\n",
    "        print('Estás dentro del límite de velocidad. ¡Buen trabajo!')"
   ]
  },
  {
   "cell_type": "code",
   "execution_count": 5,
   "metadata": {},
   "outputs": [
    {
     "name": "stdout",
     "output_type": "stream",
     "text": [
      "¿Cuál es la velocidad en km / h?  32\n",
      "La velocidad es  19.883872 mph.\n",
      "Estás dentro del límite de velocidad. ¡Buen trabajo!\n"
     ]
    }
   ],
   "source": [
    "speed2()"
   ]
  },
  {
   "cell_type": "code",
   "execution_count": 6,
   "metadata": {},
   "outputs": [
    {
     "name": "stdout",
     "output_type": "stream",
     "text": [
      "¿Cuál es la velocidad en km / h?  34\n",
      "La velocidad es  21.126614 mph.\n",
      "Estás dentro del límite de velocidad. ¡Buen trabajo!\n"
     ]
    }
   ],
   "source": [
    "speed2()"
   ]
  },
  {
   "cell_type": "markdown",
   "metadata": {},
   "source": [
    "### La declaración `if-elif-else`"
   ]
  },
  {
   "cell_type": "markdown",
   "metadata": {},
   "source": [
    "**Syntaxis**"
   ]
  },
  {
   "cell_type": "markdown",
   "metadata": {},
   "source": [
    "- Python evalúa cada condición en orden, buscando la primera que sea `True`.\n",
    "- Si se encuentra una condición `True`, se ejecutará el bloque de instrucción correspondiente.\n",
    "- Si ninguna de las condiciones es `True`, se ejecutará el `else` con el último`statement_block_n`.\n",
    "\n",
    "```python\n",
    "if condition_1:\n",
    "    statement_block_1\n",
    "elif condition_2:\n",
    "    statement_block_2\n",
    "elif condition_3:\n",
    "    statement_block_3\n",
    "...\n",
    "else:\n",
    "    statement_block_n\n",
    "```"
   ]
  },
  {
   "cell_type": "markdown",
   "metadata": {},
   "source": [
    "**Ejemplo**"
   ]
  },
  {
   "cell_type": "code",
   "execution_count": 7,
   "metadata": {},
   "outputs": [],
   "source": [
    "def speed3():\n",
    "    kph = float(input('¿Cuál es la velocidad en km / h?'))\n",
    "    mph = 0.621371 * kph\n",
    "    print('La velocidad es de', mph, 'mph.')\n",
    "\n",
    "    if mph > 80:\n",
    "        print('Estás MUY por encima del límite de velocidad. ¡Tu multa es de $ 200!')\n",
    "    elif 65 < mph <= 80:\n",
    "        print('Está por encima del límite de velocidad (65 mph). ¡Maneja más despacio!')\n",
    "    elif 30 <= mph <=65:\n",
    "        print('Estás dentro del límite de velocidad. ¡Buen trabajo!')\n",
    "    else:\n",
    "        print('Eres muy lento. ¡Sal de la autopista y usa las carreteras locales!')"
   ]
  },
  {
   "cell_type": "code",
   "execution_count": 8,
   "metadata": {},
   "outputs": [
    {
     "name": "stdout",
     "output_type": "stream",
     "text": [
      "¿Cuál es la velocidad en km / h?43\n",
      "La velocidad es de 26.718953 mph.\n",
      "Eres muy lento. ¡Sal de la autopista y usa las carreteras locales!\n"
     ]
    }
   ],
   "source": [
    "speed3()"
   ]
  },
  {
   "cell_type": "code",
   "execution_count": 9,
   "metadata": {},
   "outputs": [
    {
     "name": "stdout",
     "output_type": "stream",
     "text": [
      "¿Cuál es la velocidad en km / h?34\n",
      "La velocidad es de 21.126614 mph.\n",
      "Eres muy lento. ¡Sal de la autopista y usa las carreteras locales!\n"
     ]
    }
   ],
   "source": [
    "speed3()"
   ]
  },
  {
   "cell_type": "code",
   "execution_count": 10,
   "metadata": {},
   "outputs": [
    {
     "name": "stdout",
     "output_type": "stream",
     "text": [
      "¿Cuál es la velocidad en km / h?34\n",
      "La velocidad es de 21.126614 mph.\n",
      "Eres muy lento. ¡Sal de la autopista y usa las carreteras locales!\n"
     ]
    }
   ],
   "source": [
    "speed3()"
   ]
  },
  {
   "cell_type": "code",
   "execution_count": 11,
   "metadata": {},
   "outputs": [
    {
     "name": "stdout",
     "output_type": "stream",
     "text": [
      "¿Cuál es la velocidad en km / h?34\n",
      "La velocidad es de 21.126614 mph.\n",
      "Eres muy lento. ¡Sal de la autopista y usa las carreteras locales!\n"
     ]
    }
   ],
   "source": [
    "speed3()"
   ]
  },
  {
   "cell_type": "code",
   "execution_count": null,
   "metadata": {},
   "outputs": [],
   "source": []
  }
 ],
 "metadata": {
  "kernelspec": {
   "display_name": "Python 3",
   "language": "python",
   "name": "python3"
  },
  "language_info": {
   "codemirror_mode": {
    "name": "ipython",
    "version": 3
   },
   "file_extension": ".py",
   "mimetype": "text/x-python",
   "name": "python",
   "nbconvert_exporter": "python",
   "pygments_lexer": "ipython3",
   "version": "3.6.5"
  }
 },
 "nbformat": 4,
 "nbformat_minor": 2
}
